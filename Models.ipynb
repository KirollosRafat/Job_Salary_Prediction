{
 "cells": [
  {
   "cell_type": "code",
   "execution_count": 57,
   "id": "e199535c",
   "metadata": {},
   "outputs": [],
   "source": [
    "import pandas as pd\n",
    "import numpy as np \n",
    "from sklearn.preprocessing import OneHotEncoder,MinMaxScaler,PolynomialFeatures\n",
    "from sklearn.compose import ColumnTransformer\n",
    "from sklearn.pipeline import Pipeline\n",
    "from sklearn.linear_model import Ridge,LinearRegression\n",
    "from sklearn.model_selection import train_test_split,GridSearchCV,KFold\n",
    "from xgboost import XGBRegressor\n",
    "from sklearn.ensemble import RandomForestRegressor\n",
    "import joblib"
   ]
  },
  {
   "cell_type": "code",
   "execution_count": 42,
   "id": "034d1417",
   "metadata": {},
   "outputs": [],
   "source": [
    "# Read File and Extract Features and Target\n",
    "salary = pd.read_csv(\"Salaries.csv\")\n",
    "\n",
    "X = salary.drop('Salary',axis=1)\n",
    "y = salary['Salary']\n",
    "\n",
    "numerical_features = [\"Age\",\"Years of Experience\"]\n",
    "categorical_features = [\"Gender\",\"Education Level\",\"Job Title\"]\n",
    "\n",
    "preprocessor = ColumnTransformer(\n",
    "    transformers= [\n",
    "        ('num', MinMaxScaler(), numerical_features),\n",
    "        ('cate', OneHotEncoder(handle_unknown=\"ignore\"), categorical_features)\n",
    "    ]\n",
    ")\n",
    "\n",
    "X_train,X_test,y_train,y_test = train_test_split(X,y,random_state=42,test_size=0.2)\n"
   ]
  },
  {
   "cell_type": "code",
   "execution_count": 43,
   "id": "dca0a89a",
   "metadata": {},
   "outputs": [
    {
     "name": "stdout",
     "output_type": "stream",
     "text": [
      "Fitting 2 folds for each of 3 candidates, totalling 6 fits\n",
      "poly_deg__degree : 1\n",
      "\n",
      "Test Set Score = 0.85\n"
     ]
    }
   ],
   "source": [
    "# Setting Up The Pipeline\n",
    "pipe = Pipeline(\n",
    "    steps= [\n",
    "        ('preprocessor',preprocessor),\n",
    "        ('poly_deg', PolynomialFeatures()),\n",
    "        ('Regressor',LinearRegression())\n",
    "    ]\n",
    ")\n",
    "\n",
    "# Parameter Grid For GridSearchCV\n",
    "Grid = {\n",
    "    'poly_deg__degree': [1,2,3]\n",
    "}\n",
    "\n",
    "# Stablish The CV \n",
    "CrossV = KFold(n_splits=2,shuffle=True,random_state=42)\n",
    "\n",
    "# Create and Train The Model\n",
    "Linear_Reg_Model =  GridSearchCV(\n",
    "    estimator = pipe,\n",
    "    param_grid = Grid,\n",
    "    cv = CrossV,\n",
    "    scoring = 'r2',\n",
    "    verbose = 1\n",
    ")\n",
    "\n",
    "Linear_Reg_Model.fit(X_train,y_train)\n",
    "\n",
    "for key, value in Linear_Reg_Model.best_params_.items():\n",
    "    print(f\"{key} : {value}\\n\")    \n",
    "\n",
    "print(f\"Test Set Score = {Linear_Reg_Model.score(X_test,y_test):0.2f}\")"
   ]
  },
  {
   "cell_type": "markdown",
   "id": "2a7d5b57",
   "metadata": {},
   "source": [
    "I will Try XGBoosting Hoping for Better Test Score"
   ]
  },
  {
   "cell_type": "code",
   "execution_count": 50,
   "id": "4c295576",
   "metadata": {},
   "outputs": [
    {
     "name": "stdout",
     "output_type": "stream",
     "text": [
      "Fitting 5 folds for each of 10 candidates, totalling 50 fits\n",
      "Regressor__max_depth : 3\n",
      "\n",
      "Regressor__n_estimators : 300\n",
      "\n",
      "Test Set Score = 0.92\n"
     ]
    }
   ],
   "source": [
    "# Setting Up The Pipeline\n",
    "pipe = Pipeline(\n",
    "    steps= [\n",
    "        ('preprocessor',preprocessor),\n",
    "        ('Regressor',XGBRegressor())\n",
    "    ]\n",
    ")\n",
    "\n",
    "# Parameter Grid For GridSearchCV\n",
    "Grid = {\n",
    "    'Regressor__max_depth': [2,3],\n",
    "    'Regressor__n_estimators' : [100,150,200,250,300]\n",
    "}\n",
    "\n",
    "# Stablish The CV \n",
    "CrossV = KFold(n_splits=5,shuffle=True,random_state=42)\n",
    "\n",
    "# Create and Train The Model\n",
    "XGB_Model =  GridSearchCV(\n",
    "    estimator = pipe,\n",
    "    param_grid = Grid,\n",
    "    cv = CrossV,\n",
    "    scoring = 'r2',\n",
    "    verbose = 1\n",
    ")\n",
    "\n",
    "XGB_Model.fit(X_train,y_train)\n",
    "\n",
    "for key, value in XGB_Model.best_params_.items():\n",
    "    print(f\"{key} : {value}\\n\")    \n",
    "\n",
    "print(f\"Test Set Score = {XGB_Model.score(X_test,y_test):0.2f}\")"
   ]
  },
  {
   "cell_type": "markdown",
   "id": "be3c1f62",
   "metadata": {},
   "source": [
    "- XGBoosting Model Got Better Test R-squared Score.\n",
    "- 7% Improvement above regular Multiple Linear Regression Model.\n",
    "\n",
    "Trying Random Forest For the sake of practice."
   ]
  },
  {
   "cell_type": "code",
   "execution_count": 53,
   "id": "725cfb07",
   "metadata": {},
   "outputs": [
    {
     "name": "stdout",
     "output_type": "stream",
     "text": [
      "Fitting 5 folds for each of 21 candidates, totalling 105 fits\n",
      "Regressor__max_depth : 6\n",
      "\n",
      "Regressor__n_estimators : 25\n",
      "\n",
      "Test Set Score = 0.87\n"
     ]
    }
   ],
   "source": [
    "# Setting Up The Pipeline\n",
    "pipe = Pipeline(\n",
    "    steps= [\n",
    "        ('preprocessor',preprocessor),\n",
    "        ('Regressor',RandomForestRegressor(criterion='friedman_mse'))\n",
    "    ]\n",
    ")\n",
    "\n",
    "# Parameter Grid For GridSearchCV\n",
    "Grid = {\n",
    "    'Regressor__max_depth': [4,5,6],\n",
    "    'Regressor__n_estimators' : [i for i in range(5,70,10)]\n",
    "}\n",
    "\n",
    "# Stablish The CV \n",
    "CrossV = KFold(n_splits=5,shuffle=True,random_state=42)\n",
    "\n",
    "# Create and Train The Model\n",
    "XGB_Model =  GridSearchCV(\n",
    "    estimator = pipe,\n",
    "    param_grid = Grid,\n",
    "    cv = CrossV,\n",
    "    scoring = 'r2',\n",
    "    verbose = 1\n",
    ")\n",
    "\n",
    "XGB_Model.fit(X_train,y_train)\n",
    "\n",
    "for key, value in XGB_Model.best_params_.items():\n",
    "    print(f\"{key} : {value}\\n\")    \n",
    "\n",
    "print(f\"Test Set Score = {XGB_Model.score(X_test,y_test):0.2f}\")"
   ]
  },
  {
   "cell_type": "markdown",
   "id": "9c09696d",
   "metadata": {},
   "source": [
    "- The Best Model On Data Test Set is the XGBoosting Model with 93%. \n",
    "- Save the model."
   ]
  },
  {
   "cell_type": "code",
   "execution_count": 58,
   "id": "685eedea",
   "metadata": {},
   "outputs": [
    {
     "data": {
      "text/plain": [
       "['salary_model.joblib']"
      ]
     },
     "execution_count": 58,
     "metadata": {},
     "output_type": "execute_result"
    }
   ],
   "source": [
    "joblib.dump(XGB_Model,\"salary_model.joblib\")"
   ]
  }
 ],
 "metadata": {
  "kernelspec": {
   "display_name": "Python 3",
   "language": "python",
   "name": "python3"
  },
  "language_info": {
   "codemirror_mode": {
    "name": "ipython",
    "version": 3
   },
   "file_extension": ".py",
   "mimetype": "text/x-python",
   "name": "python",
   "nbconvert_exporter": "python",
   "pygments_lexer": "ipython3",
   "version": "3.11.9"
  }
 },
 "nbformat": 4,
 "nbformat_minor": 5
}
